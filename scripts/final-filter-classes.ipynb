{
 "cells": [
  {
   "cell_type": "code",
   "execution_count": 1,
   "id": "98c5de36-a086-4b8b-90eb-a22f4dae3b5a",
   "metadata": {},
   "outputs": [],
   "source": [
    "import os\n",
    "import shutil\n",
    "from collections import defaultdict"
   ]
  },
  {
   "cell_type": "code",
   "execution_count": 14,
   "id": "5b9c9675-c3d0-4140-ab15-c1a1ea521e3a",
   "metadata": {},
   "outputs": [],
   "source": [
    "train_dataset_path = 'data/images/train'\n",
    "train_images = sorted(os.listdir(train_dataset_path))\n",
    "train_images_paths = [os.path.join(train_dataset_path, image) for image in train_images if image.endswith('.jpg')]\n",
    "\n",
    "val_dataset_path = 'data/images/val'\n",
    "val_images = sorted(os.listdir(val_dataset_path))\n",
    "val_images_paths = [os.path.join(val_dataset_path, image) for image in val_images if image.endswith('.jpg')]\n",
    "\n",
    "test_dataset_path = 'data/images/test'\n",
    "test_images = sorted(os.listdir(test_dataset_path))\n",
    "test_images_paths = [os.path.join(test_dataset_path, image) for image in test_images if image.endswith('.jpg')]"
   ]
  },
  {
   "cell_type": "code",
   "execution_count": 15,
   "id": "2ca96773-2e2c-49d3-8b59-323b796a7f1f",
   "metadata": {},
   "outputs": [],
   "source": [
    "old_class_names = {\n",
    "  0: 'animal',\n",
    "  1: 'bike',\n",
    "  2: 'bird',\n",
    "  3: 'bus',\n",
    "  4: 'car',\n",
    "  5: 'dog',\n",
    "  6: 'face',\n",
    "  7: 'hydrant',\n",
    "  8: 'license plate',\n",
    "  9: 'light',\n",
    "  10: 'motor',\n",
    "  11: 'other vehicle',\n",
    "  12: 'person',\n",
    "  13: 'rider',\n",
    "  14: 'scooter',\n",
    "  15: 'sign',\n",
    "  16: 'skateboard',\n",
    "  17: 'stroller',\n",
    "  18: 'train',\n",
    "  19: 'truck'\n",
    "}\n",
    "class_filter = [0,2,3,5,6,7,8,14,16,17,18]\n",
    "new_class_names = {\n",
    "  0: 'bike',\n",
    "  1: 'car',\n",
    "  2: 'light',\n",
    "  3: 'motor',\n",
    "  4: 'other vehicle',\n",
    "  5: 'person',\n",
    "  6: 'rider',\n",
    "  7: 'sign',\n",
    "  8: 'truck'\n",
    "}"
   ]
  },
  {
   "cell_type": "code",
   "execution_count": 41,
   "id": "b4695a8a-513f-499c-be02-e125a1efd56c",
   "metadata": {},
   "outputs": [],
   "source": [
    "def count_classes(image_paths, class_names):\n",
    "    class_counts = defaultdict(int)\n",
    "    tot_count = 0\n",
    "    for image_path in image_paths:\n",
    "      label_path = image_path.replace(\"images\", \"labels\").replace(\".jpg\", \".txt\")\n",
    "      with open(label_path, 'r') as file:\n",
    "        for line in file:\n",
    "            parts = line.strip().split()\n",
    "            class_id = int(parts[0])\n",
    "            class_name = class_names.get(class_id, \"Unknown class\")\n",
    "            class_counts[class_id] += 1\n",
    "            tot_count += 1\n",
    "          \n",
    "    sorted_class_counts = sorted((class_names[class_id], count) for class_id, count in class_counts.items())\n",
    "    return tot_count, sorted_class_counts"
   ]
  },
  {
   "cell_type": "code",
   "execution_count": 17,
   "id": "183323ce-43e8-4186-a496-e47c5aaf85fc",
   "metadata": {},
   "outputs": [
    {
     "name": "stdout",
     "output_type": "stream",
     "text": [
      "Classes in train dataset (TOTAL:  176063 ):  [('animal', 8), ('bike', 7237), ('bird', 1), ('bus', 2245), ('car', 73623), ('dog', 4), ('face', 752), ('hydrant', 1095), ('license plate', 270), ('light', 16198), ('motor', 1116), ('other vehicle', 1373), ('person', 44527), ('rider', 5951), ('scooter', 15), ('sign', 20770), ('skateboard', 29), ('stroller', 15), ('train', 5), ('truck', 829)]\n",
      "Classes in val dataset: (TOTAL:  16786 ):  [('bike', 170), ('bus', 179), ('car', 7133), ('face', 73), ('hydrant', 94), ('license plate', 17), ('light', 2005), ('motor', 55), ('other vehicle', 63), ('person', 4309), ('rider', 161), ('sign', 2472), ('skateboard', 3), ('stroller', 6), ('truck', 46)]\n",
      "Classes in test dataset: (TOTAL:  62459 ):  [('bike', 113), ('car', 30517), ('dog', 25), ('face', 142), ('hydrant', 277), ('light', 6758), ('motor', 3314), ('other vehicle', 696), ('person', 11242), ('rider', 1081), ('sign', 5660), ('truck', 2634)]\n"
     ]
    }
   ],
   "source": [
    "tot_train_labels, train_labels_counts = count_classes(train_images_paths, old_class_names)\n",
    "print(\"Classes in train dataset (TOTAL: \",tot_train_labels ,\"): \", train_labels_count)\n",
    "\n",
    "tot_val_labels, val_labels_counts = count_classes(val_images_paths, old_class_names)\n",
    "print(\"Classes in val dataset: (TOTAL: \",tot_val_labels ,\"): \", val_labels_count)\n",
    "\n",
    "tot_test_labels, test_labels_counst = count_classes(test_images_paths, old_class_names)\n",
    "print(\"Classes in test dataset: (TOTAL: \",tot_test_labels ,\"): \", test_labels_count)"
   ]
  },
  {
   "cell_type": "code",
   "execution_count": 37,
   "id": "39b3cb46-5025-4b8c-a0ff-581fdfb0e02c",
   "metadata": {},
   "outputs": [],
   "source": [
    "def generate_filtered_data(image_paths, old_class_names, new_class_names, class_filter):\n",
    "  for image_path in image_paths:\n",
    "    label_path = image_path.replace(\"images\", \"labels\").replace(\".jpg\", \".txt\")\n",
    "    new_image_path = image_path.replace(\"data\", \"final-data\")\n",
    "    new_label_path = label_path.replace(\"data\", \"final-data\")\n",
    "    \n",
    "    new_lines = []\n",
    "    with open(label_path, 'r') as file:\n",
    "        for line in file:\n",
    "            parts = line.strip().split()\n",
    "            class_id = int(parts[0])\n",
    "            class_name = old_class_names[class_id]\n",
    "          \n",
    "            if class_id not in class_filter:\n",
    "              for new_id, name in new_class_names.items():\n",
    "                if name == class_name:\n",
    "                    new_class_id = new_id\n",
    "              parts[0] = str(new_class_id)\n",
    "              new_line = ' '.join(parts) + '\\n'\n",
    "              new_lines.append(new_line)\n",
    "\n",
    "    with open(new_label_path, 'w') as file:\n",
    "        file.writelines(new_lines)\n",
    "    \n",
    "    shutil.copyfile(image_path, new_image_path)"
   ]
  },
  {
   "cell_type": "code",
   "execution_count": 38,
   "id": "c7ba9a09-081b-4272-be44-9b1d0868a379",
   "metadata": {
    "scrolled": true
   },
   "outputs": [],
   "source": [
    "generate_filtered_data(train_images_paths, old_class_names, new_class_names, class_filter)\n",
    "generate_filtered_data(val_images_paths, old_class_names, new_class_names, class_filter)\n",
    "generate_filtered_data(test_images_paths, old_class_names, new_class_names, class_filter)"
   ]
  },
  {
   "cell_type": "code",
   "execution_count": 39,
   "id": "c9bb9261-23cb-4ff6-a36c-b56f47afec3d",
   "metadata": {},
   "outputs": [],
   "source": [
    "new_train_dataset_path = 'final-data/images/train'\n",
    "new_train_images = sorted(os.listdir(new_train_dataset_path))\n",
    "new_train_images_paths = [os.path.join(new_train_dataset_path, image) for image in new_train_images if image.endswith('.jpg')]\n",
    "\n",
    "new_val_dataset_path = 'final-data/images/val'\n",
    "new_val_images = sorted(os.listdir(new_val_dataset_path))\n",
    "new_val_images_paths = [os.path.join(new_val_dataset_path, image) for image in new_val_images if image.endswith('.jpg')]\n",
    "\n",
    "new_test_dataset_path = 'final-data/images/test'\n",
    "new_test_images = sorted(os.listdir(new_test_dataset_path))\n",
    "new_test_images_paths = [os.path.join(new_test_dataset_path, image) for image in new_test_images if image.endswith('.jpg')]"
   ]
  },
  {
   "cell_type": "code",
   "execution_count": 44,
   "id": "7ae3dcd4-d509-40ca-beea-7bb4e30ed8a2",
   "metadata": {},
   "outputs": [
    {
     "name": "stdout",
     "output_type": "stream",
     "text": [
      "Classes in train dataset (TOTAL:  171624 ):  [('bike', 7237), ('car', 73623), ('light', 16198), ('motor', 1116), ('other vehicle', 1373), ('person', 44527), ('rider', 5951), ('sign', 20770), ('truck', 829)]\n",
      "Classes in val dataset: (TOTAL:  16414 ):  [('bike', 170), ('car', 7133), ('light', 2005), ('motor', 55), ('other vehicle', 63), ('person', 4309), ('rider', 161), ('sign', 2472), ('truck', 46)]\n",
      "Classes in test dataset: (TOTAL:  62015 ):  [('bike', 113), ('car', 30517), ('light', 6758), ('motor', 3314), ('other vehicle', 696), ('person', 11242), ('rider', 1081), ('sign', 5660), ('truck', 2634)]\n"
     ]
    }
   ],
   "source": [
    "new_tot_train_labels, new_train_labels_counts = count_classes(new_train_images_paths, new_class_names)\n",
    "print(\"Classes in train dataset (TOTAL: \",new_tot_train_labels ,\"): \", new_train_labels_counts)\n",
    "\n",
    "new_tot_val_labels, new_val_labels_counts = count_classes(new_val_images_paths, new_class_names)\n",
    "print(\"Classes in val dataset: (TOTAL: \",new_tot_val_labels ,\"): \", new_val_labels_counts)\n",
    "\n",
    "new_tot_test_labels, new_test_labels_counts = count_classes(new_test_images_paths, new_class_names)\n",
    "print(\"Classes in test dataset: (TOTAL: \",new_tot_test_labels ,\"): \", new_test_labels_counts)"
   ]
  },
  {
   "cell_type": "code",
   "execution_count": null,
   "id": "098c7b75-a296-4ec4-8f86-712069765a8f",
   "metadata": {},
   "outputs": [],
   "source": []
  }
 ],
 "metadata": {
  "kernelspec": {
   "display_name": "Python 3 (ipykernel)",
   "language": "python",
   "name": "python3"
  },
  "language_info": {
   "codemirror_mode": {
    "name": "ipython",
    "version": 3
   },
   "file_extension": ".py",
   "mimetype": "text/x-python",
   "name": "python",
   "nbconvert_exporter": "python",
   "pygments_lexer": "ipython3",
   "version": "3.12.3"
  }
 },
 "nbformat": 4,
 "nbformat_minor": 5
}
