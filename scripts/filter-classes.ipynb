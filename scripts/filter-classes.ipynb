{
 "cells": [
  {
   "cell_type": "code",
   "execution_count": 42,
   "id": "41d55d44-efc8-4d0e-a247-c637ca497f54",
   "metadata": {},
   "outputs": [],
   "source": [
    "import os\n",
    "import shutil\n",
    "from collections import defaultdict"
   ]
  },
  {
   "cell_type": "code",
   "execution_count": 61,
   "id": "09ad826a-b827-48db-9461-a433c3d4c98e",
   "metadata": {},
   "outputs": [],
   "source": [
    "train_dataset_path = 'data/images/train'\n",
    "train_images = sorted(os.listdir(train_dataset_path))\n",
    "train_images_paths = [os.path.join(train_dataset_path, image) for image in train_images if image.endswith('.jpg')]\n",
    "\n",
    "val_dataset_path = 'data/images/val'\n",
    "val_images = sorted(os.listdir(val_dataset_path))\n",
    "val_images_paths = [os.path.join(val_dataset_path, image) for image in val_images if image.endswith('.jpg')]\n",
    "\n",
    "test_dataset_path = 'data/images/test'\n",
    "test_images = sorted(os.listdir(test_dataset_path))\n",
    "test_images_paths = [os.path.join(test_dataset_path, image) for image in test_images if image.endswith('.jpg')]\n",
    "\n",
    "filtered_train_dataset_path = 'filtered-data/images/train'\n",
    "filtered_train_images = sorted(os.listdir(filtered_train_dataset_path))\n",
    "filtered_train_images_paths = [os.path.join(filtered_train_dataset_path, image) for image in filtered_train_images if image.endswith('.jpg')]\n",
    "\n",
    "filtered_val_dataset_path = 'filtered-data/images/val'\n",
    "filtered_val_images = sorted(os.listdir(filtered_val_dataset_path))\n",
    "filtered_val_images_paths = [os.path.join(filtered_val_dataset_path, image) for image in filtered_val_images if image.endswith('.jpg')]\n",
    "\n",
    "filtered_test_dataset_path = 'filtered-data/images/test'\n",
    "filtered_test_images = sorted(os.listdir(filtered_test_dataset_path))\n",
    "filtered_test_images_paths = [os.path.join(filtered_test_dataset_path, image) for image in filtered_test_images if image.endswith('.jpg')]"
   ]
  },
  {
   "cell_type": "code",
   "execution_count": 44,
   "id": "e5a226ed-7c9c-4fc8-9064-40df6d5aa68a",
   "metadata": {},
   "outputs": [],
   "source": [
    "def count_classes(image_paths):\n",
    "    class_names = {\n",
    "        0: 'animal',\n",
    "        1: 'bike',\n",
    "        2: 'bird',\n",
    "        3: 'bus',\n",
    "        4: 'car',\n",
    "        5: 'dog',\n",
    "        6: 'face',\n",
    "        7: 'hydrant',\n",
    "        8: 'license plate',\n",
    "        9: 'light',\n",
    "        10: 'motor',\n",
    "        11: 'other vehicle',\n",
    "        12: 'person',\n",
    "        13: 'rider',\n",
    "        14: 'scooter',\n",
    "        15: 'sign',\n",
    "        16: 'skateboard',\n",
    "        17: 'stroller',\n",
    "        18: 'train',\n",
    "        19: 'truck'\n",
    "    }\n",
    "      \n",
    "    class_counts = defaultdict(int)\n",
    "    for image_path in image_paths:\n",
    "      label_path = image_path.replace(\"images\", \"labels\").replace(\".jpg\", \".txt\")\n",
    "      with open(label_path, 'r') as file:\n",
    "        for line in file:\n",
    "            parts = line.strip().split()\n",
    "            class_id = int(parts[0])\n",
    "            #if class_id in [0,2,5,14,16,17,18]:\n",
    "              #print(label_path)\n",
    "            class_name = class_names.get(class_id, \"Unknown class\")\n",
    "            class_counts[class_id] += 1\n",
    "          \n",
    "    sorted_class_counts = sorted((class_names[class_id], count) for class_id, count in class_counts.items())\n",
    "    return sorted_class_counts"
   ]
  },
  {
   "cell_type": "code",
   "execution_count": 54,
   "id": "dc0639d8-d7bb-49f7-8b0b-bd4478ca5240",
   "metadata": {},
   "outputs": [],
   "source": [
    "def generate_filtered_data(image_paths):\n",
    "    filter = [0,2,5,14,16,17,18]\n",
    "    for image_path in image_paths:\n",
    "      label_path = image_path.replace(\"images\", \"labels\").replace(\".jpg\", \".txt\")\n",
    "      new_image_path = image_path.replace(\"data\", \"filtered-data\")\n",
    "      new_label_path = label_path.replace(\"data\", \"filtered-data\")\n",
    "      \n",
    "      new_lines = []\n",
    "      with open(label_path, 'r') as file:\n",
    "          for line in file:\n",
    "              parts = line.strip().split()\n",
    "              class_id = int(parts[0])\n",
    "              if class_id not in filter:\n",
    "                  new_lines.append(line)\n",
    "      \n",
    "      with open(new_label_path, 'w') as file:\n",
    "          file.writelines(new_lines)\n",
    "      \n",
    "      shutil.copyfile(image_path, new_image_path)"
   ]
  },
  {
   "cell_type": "code",
   "execution_count": 62,
   "id": "6e9d535b-4513-43f0-ada6-bb3d50aa833b",
   "metadata": {},
   "outputs": [
    {
     "name": "stdout",
     "output_type": "stream",
     "text": [
      "Classes in train dataset:  [('animal', 8), ('bike', 7237), ('bird', 1), ('bus', 2245), ('car', 73623), ('dog', 4), ('face', 752), ('hydrant', 1095), ('license plate', 270), ('light', 16198), ('motor', 1116), ('other vehicle', 1373), ('person', 44527), ('rider', 5951), ('scooter', 15), ('sign', 20770), ('skateboard', 29), ('stroller', 15), ('train', 5), ('truck', 829)]\n",
      "Classes in val dataset:  [('bike', 170), ('bus', 179), ('car', 7133), ('face', 73), ('hydrant', 94), ('license plate', 17), ('light', 2005), ('motor', 55), ('other vehicle', 63), ('person', 4309), ('rider', 161), ('sign', 2472), ('skateboard', 3), ('stroller', 6), ('truck', 46)]\n",
      "Classes in test dataset:  [('bike', 113), ('car', 30517), ('dog', 25), ('face', 142), ('hydrant', 277), ('light', 6758), ('motor', 3314), ('other vehicle', 696), ('person', 11242), ('rider', 1081), ('sign', 5660), ('truck', 2634)]\n"
     ]
    }
   ],
   "source": [
    "train_labels_count = count_classes(train_images_paths)\n",
    "print(\"Classes in train dataset: \", train_labels_count)\n",
    "\n",
    "val_labels_count = count_classes(val_images_paths)\n",
    "print(\"Classes in val dataset: \", val_labels_count)\n",
    "\n",
    "test_labels_count = count_classes(test_images_paths)\n",
    "print(\"Classes in test dataset: \", test_labels_count)"
   ]
  },
  {
   "cell_type": "code",
   "execution_count": 58,
   "id": "83eb45e4-b6ce-40f0-a2d8-8626fc59e237",
   "metadata": {
    "scrolled": true
   },
   "outputs": [],
   "source": [
    "#generate_filtered_data(train_images_paths)\n",
    "#generate_filtered_data(val_images_paths)\n",
    "#generate_filtered_data(test_images_paths)"
   ]
  },
  {
   "cell_type": "code",
   "execution_count": 63,
   "id": "934c617c-e72c-4071-9889-0d6e0c769efd",
   "metadata": {},
   "outputs": [
    {
     "name": "stdout",
     "output_type": "stream",
     "text": [
      "Classes in train filtered dataset:  [('bike', 7237), ('bus', 2245), ('car', 73623), ('face', 752), ('hydrant', 1095), ('license plate', 270), ('light', 16198), ('motor', 1116), ('other vehicle', 1373), ('person', 44527), ('rider', 5951), ('sign', 20770), ('truck', 829)]\n",
      "Classes in val filtered dataset:  [('bike', 170), ('bus', 179), ('car', 7133), ('face', 73), ('hydrant', 94), ('license plate', 17), ('light', 2005), ('motor', 55), ('other vehicle', 63), ('person', 4309), ('rider', 161), ('sign', 2472), ('truck', 46)]\n",
      "Classes in test filtered dataset:  [('bike', 113), ('car', 30517), ('face', 142), ('hydrant', 277), ('light', 6758), ('motor', 3314), ('other vehicle', 696), ('person', 11242), ('rider', 1081), ('sign', 5660), ('truck', 2634)]\n"
     ]
    }
   ],
   "source": [
    "filtered_train_labels_count = count_classes(filtered_train_images_paths)\n",
    "print(\"Classes in train filtered dataset: \", filtered_train_labels_count)\n",
    "\n",
    "filtered_val_labels_count = count_classes(filtered_val_images_paths)\n",
    "print(\"Classes in val filtered dataset: \", filtered_val_labels_count)\n",
    "\n",
    "filtered_test_labels_count = count_classes(filtered_test_images_paths)\n",
    "print(\"Classes in test filtered dataset: \", filtered_test_labels_count)"
   ]
  }
 ],
 "metadata": {
  "kernelspec": {
   "display_name": "Python 3 (ipykernel)",
   "language": "python",
   "name": "python3"
  },
  "language_info": {
   "codemirror_mode": {
    "name": "ipython",
    "version": 3
   },
   "file_extension": ".py",
   "mimetype": "text/x-python",
   "name": "python",
   "nbconvert_exporter": "python",
   "pygments_lexer": "ipython3",
   "version": "3.12.3"
  }
 },
 "nbformat": 4,
 "nbformat_minor": 5
}
