{
 "cells": [
  {
   "cell_type": "code",
   "execution_count": 1,
   "id": "c3227f0f-246b-408e-b126-7d2e692f9573",
   "metadata": {},
   "outputs": [],
   "source": [
    "import os\n",
    "import shutil\n",
    "from collections import defaultdict"
   ]
  },
  {
   "cell_type": "code",
   "execution_count": 2,
   "id": "7b6f05fe-8da6-4cb4-bcf3-618056af35cc",
   "metadata": {},
   "outputs": [],
   "source": [
    "old_classes = {\n",
    "    0: 'animal',\n",
    "    1: 'bike',\n",
    "    2: 'bird',\n",
    "    3: 'bus',\n",
    "    4: 'car',\n",
    "    5: 'dog',\n",
    "    6: 'face',\n",
    "    7: 'hydrant',\n",
    "    8: 'license plate',\n",
    "    9: 'light',\n",
    "    10: 'motor',\n",
    "    11: 'other vehicle',\n",
    "    12: 'person',\n",
    "    13: 'rider',\n",
    "    14: 'scooter',\n",
    "    15: 'sign',\n",
    "    16: 'skateboard',\n",
    "    17: 'stroller',\n",
    "    18: 'train',\n",
    "    19: 'truck'\n",
    "}\n",
    "\n",
    "post_filter_classes = {\n",
    "  1: 'bike',\n",
    "  3: 'bus',\n",
    "  4: 'car',\n",
    "  6: 'face',\n",
    "  7: 'hydrant',\n",
    "  8: 'license plate',\n",
    "  9: 'light',\n",
    "  10: 'motor',\n",
    "  11: 'other vehicle',\n",
    "  12: 'person',\n",
    "  13: 'rider',\n",
    "  15: 'sign',\n",
    "  19: 'truck'\n",
    "}\n",
    "\n",
    "fixed_classes = {\n",
    "  0: 'bike',\n",
    "  1: 'bus',\n",
    "  2: 'car',\n",
    "  3: 'face',\n",
    "  4: 'hydrant',\n",
    "  5: 'license plate',\n",
    "  6: 'light',\n",
    "  7: 'motor',\n",
    "  8: 'other vehicle',\n",
    "  9: 'person',\n",
    "  10: 'rider',\n",
    "  11: 'sign',\n",
    "  12: 'truck'\n",
    "}"
   ]
  },
  {
   "cell_type": "code",
   "execution_count": 25,
   "id": "38944566-c414-4942-95a5-aa0bf0bca223",
   "metadata": {},
   "outputs": [],
   "source": [
    "train_dataset_path = 'filtered-data/labels/train'\n",
    "train_labels = sorted(os.listdir(train_dataset_path))\n",
    "train_labels_paths = [os.path.join(train_dataset_path, label) for label in train_labels if label.endswith('.txt')]\n",
    "\n",
    "val_dataset_path = 'filtered-data/labels/val'\n",
    "val_labels = sorted(os.listdir(val_dataset_path))\n",
    "val_labels_paths = [os.path.join(val_dataset_path, label) for label in val_labels if label.endswith('.txt')]\n",
    "\n",
    "test_dataset_path = 'filtered-data/labels/test'\n",
    "test_labels = sorted(os.listdir(test_dataset_path))\n",
    "test_labels_paths = [os.path.join(test_dataset_path, label) for label in test_labels if label.endswith('.txt')]"
   ]
  },
  {
   "cell_type": "code",
   "execution_count": 28,
   "id": "eba7e188-87a2-4145-84e7-0f3b85f437ae",
   "metadata": {
    "scrolled": true
   },
   "outputs": [],
   "source": [
    "def remap_labels(labels_paths):\n",
    "  for label_path in labels_paths:\n",
    "    #print(label)\n",
    "    \n",
    "    new_lines = []\n",
    "  \n",
    "    with open(label_path, 'r') as file:\n",
    "        for line in file:\n",
    "            #print(line)\n",
    "            parts = line.strip().split()\n",
    "            class_id = int(parts[0])\n",
    "            class_name = post_filter_classes[class_id]\n",
    "             \n",
    "            for new_id, name in fixed_classes.items():\n",
    "              if name == class_name:\n",
    "                  new_class_id = new_id\n",
    "  \n",
    "            parts[0] = str(new_class_id)\n",
    "            new_line = ' '.join(parts) + '\\n'\n",
    "            new_lines.append(new_line)\n",
    "            #print(class_id, class_name, new_class_id)\n",
    "            #print(new_line)\n",
    "  \n",
    "    new_label_path = label_path.replace('labels','fixed-labels')   \n",
    "    #print(label_path,new_label_path)\n",
    "\n",
    "    with open(new_label_path, 'w') as file:\n",
    "        file.writelines(new_lines)"
   ]
  },
  {
   "cell_type": "code",
   "execution_count": 29,
   "id": "bbde87ba-3ab6-4a46-92f0-ad716cc31f3c",
   "metadata": {},
   "outputs": [],
   "source": [
    "remap_labels(train_labels_paths)\n",
    "remap_labels(val_labels_paths)\n",
    "remap_labels(test_labels_paths)"
   ]
  },
  {
   "cell_type": "code",
   "execution_count": null,
   "id": "def9af27-8e8a-4950-85b1-1c5c4941801a",
   "metadata": {},
   "outputs": [],
   "source": []
  }
 ],
 "metadata": {
  "kernelspec": {
   "display_name": "Python 3 (ipykernel)",
   "language": "python",
   "name": "python3"
  },
  "language_info": {
   "codemirror_mode": {
    "name": "ipython",
    "version": 3
   },
   "file_extension": ".py",
   "mimetype": "text/x-python",
   "name": "python",
   "nbconvert_exporter": "python",
   "pygments_lexer": "ipython3",
   "version": "3.12.3"
  }
 },
 "nbformat": 4,
 "nbformat_minor": 5
}
